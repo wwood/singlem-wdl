{
 "cells": [
  {
   "cell_type": "markdown",
   "metadata": {},
   "source": [
    "# Test call Terra api with service account"
   ]
  },
  {
   "cell_type": "markdown",
   "metadata": {},
   "source": [
    "The following tasks have already been completed. To replicate this analysis with a different service account or project you may need to perform some / all of these tasks. \n",
    "\n",
    "- create service account\n",
    " - https://cloud.google.com/iam/docs/creating-managing-service-accounts#creating_a_service_account\n",
    "- create credentials file\n",
    " - https://cloud.google.com/storage/docs/authentication#generating-a-private-key\n",
    "- run script to register service account with Terra..\n",
    " - https://github.com/broadinstitute/terra-tools/tree/master/scripts/register_service_account\n",
    " - amend relative path to credentials file to absolute path in docker run command provided above. ie..\n",
    " - -v /home/mitchac/credentials.json:/svc.json \n",
    "- Grant your service account 'writer' permissions on your workspace.\n",
    "- Upload the credentials.json file for your service account to files area in this workspace.\n",
    "- Grant your service account 'reader' permissions on the relevant methods in the Broad Methods Repository."
   ]
  },
  {
   "cell_type": "markdown",
   "metadata": {},
   "source": [
    "Copy the credentials.json file to the disk of your notebook instance.. "
   ]
  },
  {
   "cell_type": "code",
   "execution_count": 1,
   "metadata": {},
   "outputs": [
    {
     "name": "stdout",
     "output_type": "stream",
     "text": [
      "Copying gs://fc-833c2d81-556a-4c83-aed7-21f884f6fec0/notebooks/credentials.json...\n",
      "/ [1 files][  2.3 KiB/  2.3 KiB]                                                \n",
      "Operation completed over 1 objects/2.3 KiB.                                      \n",
      "Config-and-run-workflow.ipynb\t  credentials.json\n",
      "Cost-estimator-gbp-summary.ipynb  runtest.ipynb\n"
     ]
    }
   ],
   "source": [
    "!gsutil cp gs://fc-833c2d81-556a-4c83-aed7-21f884f6fec0/notebooks/credentials.json .\n",
    "!ls"
   ]
  },
  {
   "cell_type": "markdown",
   "metadata": {},
   "source": [
    "Authenticate your service account.."
   ]
  },
  {
   "cell_type": "code",
   "execution_count": 1,
   "metadata": {},
   "outputs": [
    {
     "name": "stdout",
     "output_type": "stream",
     "text": [
      "Activated service account credentials for: [terra-api@maximal-dynamo-308105.iam.gserviceaccount.com]\n",
      "                              Credentialed Accounts\n",
      "ACTIVE  ACCOUNT\n",
      "        pet-114473713848060875587@firstterrabillingaccount.iam.gserviceaccount.com\n",
      "*       terra-api@maximal-dynamo-308105.iam.gserviceaccount.com\n",
      "\n",
      "To set the active account, run:\n",
      "    $ gcloud config set account `ACCOUNT`\n",
      "\n"
     ]
    }
   ],
   "source": [
    "!gcloud auth activate-service-account --key-file credentials.json\n",
    "!gcloud auth list"
   ]
  },
  {
   "cell_type": "code",
   "execution_count": 2,
   "metadata": {},
   "outputs": [],
   "source": [
    "import requests\n",
    "import os\n",
    "import json"
   ]
  },
  {
   "cell_type": "markdown",
   "metadata": {},
   "source": [
    "Check Terra/firecloud api by requesting user details. NB you will authenticate the request with your service account."
   ]
  },
  {
   "cell_type": "code",
   "execution_count": 3,
   "metadata": {},
   "outputs": [
    {
     "name": "stdout",
     "output_type": "stream",
     "text": [
      "{'enabled': {'allUsersGroup': True, 'google': True, 'ldap': True}, 'userInfo': {'userEmail': 'terra-api@maximal-dynamo-308105.iam.gserviceaccount.com', 'userSubjectId': '103764540142056505135'}}\n"
     ]
    }
   ],
   "source": [
    "token = os.popen('gcloud auth --account=terra-api@maximal-dynamo-308105.iam.gserviceaccount.com print-access-token').read().rstrip()\n",
    "head = {'accept': 'application/json','Authorization': 'Bearer {}'.format(token)}\n",
    "myUrl = 'https://api.firecloud.org/me?userDetailsOnly=false'\n",
    "response = requests.get(myUrl, headers=head)\n",
    "print(response.json())"
   ]
  },
  {
   "cell_type": "markdown",
   "metadata": {},
   "source": [
    "Create an example workflow configuration.. "
   ]
  },
  {
   "cell_type": "code",
   "execution_count": 4,
   "metadata": {},
   "outputs": [
    {
     "name": "stdout",
     "output_type": "stream",
     "text": [
      "{'extraInputs': [], 'invalidInputs': {}, 'invalidOutputs': {}, 'methodConfiguration': {'deleted': False, 'inputs': {}, 'methodConfigVersion': 1, 'methodRepoMethod': {'methodName': 'internet-speed-test', 'methodVersion': 4, 'methodNamespace': 'mitchac', 'methodUri': 'agora://mitchac/internet-speed-test/4', 'sourceRepo': 'agora'}, 'name': 'internet-speed-test', 'namespace': 'config-namespace-test', 'outputs': {'internet_speed_test_wf.downloaded_file_out': 'this.dl_out', 'internet_speed_test_wf.speed_test_results': 'this.speedtest_out'}, 'prerequisites': {}, 'rootEntityType': 'dl_test'}, 'missingInputs': [], 'validInputs': ['internet_speed_test_wf.speed_test_task.dockerImage'], 'validOutputs': ['internet_speed_test_wf.downloaded_file_out', 'internet_speed_test_wf.speed_test_results']}\n"
     ]
    }
   ],
   "source": [
    "token = os.popen('gcloud auth --account=terra-api@maximal-dynamo-308105.iam.gserviceaccount.com print-access-token').read().rstrip()\n",
    "head = {'accept': '*/*',\"Content-Type\": \"application/json\", 'Authorization': 'Bearer {}'.format(token)}\n",
    "\n",
    "data={\n",
    "\t\"name\": \"internet-speed-test\",\n",
    "\t\"methodRepoMethod\": {\n",
    "\t\t\"methodName\": \"internet-speed-test\",\n",
    "\t\t\"methodVersion\": 4,\n",
    "\t\t\"methodNamespace\": \"mitchac\"\n",
    "\t},\n",
    "\t\"outputs\": {\n",
    "\t\t\"internet_speed_test_wf.downloaded_file_out\": \"this.dl_out\",\n",
    "\t\t\"internet_speed_test_wf.speed_test_results\": \"this.speedtest_out\"\n",
    "\t},\n",
    "    \t\"inputs\": {\n",
    "\t},\n",
    "\t\"rootEntityType\": \"dl_test\",\n",
    "\t\"prerequisites\": {},\n",
    "\t\"methodConfigVersion\": 1,\n",
    "\t\"deleted\": False,\n",
    "\t\"namespace\": \"config-namespace-test\"\n",
    "}\n",
    "\n",
    "myUrl = 'https://api.firecloud.org/api/workspaces/firstterrabillingaccount/singlem-pilot-2/method_configs/config-namespace-test/internet-speed-test'\n",
    "response = requests.put(myUrl, data=json.dumps(data), headers=head)\n",
    "print(response.json())"
   ]
  },
  {
   "cell_type": "markdown",
   "metadata": {},
   "source": [
    "Run a workflow.. "
   ]
  },
  {
   "cell_type": "code",
   "execution_count": 6,
   "metadata": {},
   "outputs": [
    {
     "name": "stdout",
     "output_type": "stream",
     "text": [
      "{'header': {'entityType': 'autotest_sample', 'inputExpressions': [{'expression': 'this.sra_accession', 'wdlName': 'SingleM_SRA.SRA_accession_num'}, {'expression': 'true', 'wdlName': 'SingleM_SRA.GCloud_Paid'}, {'expression': '\"gcp-cp aws-http prefetch\"', 'wdlName': 'SingleM_SRA.Download_Method_Order'}, {'expression': '\"gs://fc-833c2d81-556a-4c83-aed7-21f884f6fec0/sa-private-key.json\"', 'wdlName': 'SingleM_SRA.GCloud_User_Key_File'}, {'expression': 'this.metagenome_size_in_gbp', 'wdlName': 'SingleM_SRA.metagenome_size_in_gbp'}]}, 'request': {'deleteIntermediateOutputFiles': True, 'entityName': 'SRR3984954', 'entityType': 'autotest_sample', 'memoryRetryMultiplier': 1.0, 'methodConfigurationName': 'singlem-single-task', 'methodConfigurationNamespace': 'singlem', 'useCallCache': True, 'useReferenceDisks': True, 'workflowFailureMode': 'NoNewCalls'}, 'status': 'Submitted', 'submissionDate': '2021-06-10T03:27:58.970Z', 'submissionId': '0d1d984a-d51b-45fb-8d77-72d9d81cb0eb', 'submitter': 'terra-api@maximal-dynamo-308105.iam.gserviceaccount.com', 'workflows': [{'entityName': 'SRR3984954', 'inputResolutions': [{'inputName': 'SingleM_SRA.metagenome_size_in_gbp', 'value': '1'}, {'inputName': 'SingleM_SRA.GCloud_User_Key_File', 'value': 'gs://fc-833c2d81-556a-4c83-aed7-21f884f6fec0/sa-private-key.json'}, {'inputName': 'SingleM_SRA.GCloud_Paid', 'value': True}, {'inputName': 'SingleM_SRA.SRA_accession_num', 'value': 'SRR3984954'}, {'inputName': 'SingleM_SRA.Download_Method_Order', 'value': 'gcp-cp aws-http prefetch'}]}]}\n"
     ]
    }
   ],
   "source": [
    "token = os.popen('gcloud auth --account=terra-api@maximal-dynamo-308105.iam.gserviceaccount.com print-access-token').read().rstrip()\n",
    "head = {'accept': '*/*',\"Content-Type\": \"application/json\", 'Authorization': 'Bearer {}'.format(token)}\n",
    "\n",
    "data={\n",
    "  \"methodConfigurationNamespace\": \"singlem\",\n",
    "  \"methodConfigurationName\": \"singlem-single-task\",\n",
    "  \"entityType\": \"autotest_sample\",\n",
    "  \"entityName\": \"SRR3984954\",\n",
    "  \"useCallCache\": True,\n",
    "  \"deleteIntermediateOutputFiles\": True,\n",
    "  \"useReferenceDisks\": True,\n",
    "  \"workflowFailureMode\": \"NoNewCalls\"\n",
    "}\n",
    "\n",
    "myUrl = 'https://api.firecloud.org/api/workspaces/firstterrabillingaccount/singlem-pilot-2/submissions'\n",
    "response = requests.post(myUrl, data=json.dumps(data), headers=head)\n",
    "print(response.json())"
   ]
  }
 ],
 "metadata": {
  "kernelspec": {
   "display_name": "Python 3",
   "language": "python",
   "name": "python3"
  },
  "language_info": {
   "codemirror_mode": {
    "name": "ipython",
    "version": 3
   },
   "file_extension": ".py",
   "mimetype": "text/x-python",
   "name": "python",
   "nbconvert_exporter": "python",
   "pygments_lexer": "ipython3",
   "version": "3.7.10"
  },
  "toc": {
   "base_numbering": 1,
   "nav_menu": {},
   "number_sections": true,
   "sideBar": true,
   "skip_h1_title": false,
   "title_cell": "Table of Contents",
   "title_sidebar": "Contents",
   "toc_cell": false,
   "toc_position": {},
   "toc_section_display": true,
   "toc_window_display": false
  }
 },
 "nbformat": 4,
 "nbformat_minor": 2
}
