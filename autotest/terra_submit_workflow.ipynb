{
 "cells": [
  {
   "cell_type": "code",
   "execution_count": 1,
   "id": "a02fb55a-c897-45af-ac58-48e4d4555693",
   "metadata": {},
   "outputs": [],
   "source": [
    "import os\n",
    "os.environ[\"GCLOUD_PROJECT\"] = \"maximal-dynamo-308105\""
   ]
  },
  {
   "cell_type": "code",
   "execution_count": 2,
   "id": "07771495-6ad7-4ea6-aaec-80513b302799",
   "metadata": {},
   "outputs": [],
   "source": [
    "import dalmatian"
   ]
  },
  {
   "cell_type": "code",
   "execution_count": 3,
   "id": "13c2add3-0a7d-40dd-bde7-128ce7f54488",
   "metadata": {},
   "outputs": [],
   "source": [
    "wm = dalmatian.WorkspaceManager(\"firstterrabillingaccount/singlem-pilot\")\n"
   ]
  },
  {
   "cell_type": "code",
   "execution_count": 4,
   "id": "c2580102-40c7-479a-91ff-31ae208172e3",
   "metadata": {},
   "outputs": [
    {
     "name": "stdout",
     "output_type": "stream",
     "text": [
      "Successfully created submission 172f0bf7-7125-4225-b85a-e4ff1a261887.\n"
     ]
    },
    {
     "data": {
      "text/plain": [
       "'172f0bf7-7125-4225-b85a-e4ff1a261887'"
      ]
     },
     "execution_count": 4,
     "metadata": {},
     "output_type": "execute_result"
    }
   ],
   "source": [
    "wm.create_submission(\"config_namespace_test/test-workflow\", \"1\", 'dl_test')\n",
    "\n"
   ]
  }
 ],
 "metadata": {
  "kernelspec": {
   "display_name": "Python 3",
   "language": "python",
   "name": "python3"
  },
  "language_info": {
   "codemirror_mode": {
    "name": "ipython",
    "version": 3
   },
   "file_extension": ".py",
   "mimetype": "text/x-python",
   "name": "python",
   "nbconvert_exporter": "python",
   "pygments_lexer": "ipython3",
   "version": "3.9.2"
  }
 },
 "nbformat": 4,
 "nbformat_minor": 5
}
