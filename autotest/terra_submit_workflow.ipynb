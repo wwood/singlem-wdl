{
 "cells": [
  {
   "cell_type": "code",
   "execution_count": 2,
   "id": "487b6564-2c79-4000-af04-13b44ec7e85c",
   "metadata": {},
   "outputs": [
    {
     "name": "stdout",
     "output_type": "stream",
     "text": [
      "Collecting git+https://github.com/getzlab/dalmatian\n",
      "  Cloning https://github.com/getzlab/dalmatian to /tmp/pip-req-build-7k3uzfce\n",
      "  Running command git clone -q https://github.com/getzlab/dalmatian /tmp/pip-req-build-7k3uzfce\n",
      "Collecting numpy\n",
      "  Downloading numpy-1.20.3-cp39-cp39-manylinux_2_12_x86_64.manylinux2010_x86_64.whl (15.4 MB)\n",
      "\u001b[K     |████████████████████████████████| 15.4 MB 382 kB/s eta 0:00:01    |██▏                             | 1.0 MB 2.4 MB/s eta 0:00:06     |██████▉                         | 3.3 MB 1.2 MB/s eta 0:00:11     |████████                        | 3.9 MB 1.1 MB/s eta 0:00:11     |████████▏                       | 3.9 MB 1.1 MB/s eta 0:00:11     |████████████▍                   | 6.0 MB 75 kB/s eta 0:02:05     |██████████████▏                 | 6.8 MB 1.2 MB/s eta 0:00:08     |████████████████                | 7.7 MB 1.2 MB/s eta 0:00:07     |████████████████▊               | 8.0 MB 1.3 MB/s eta 0:00:06     |█████████████████▋              | 8.5 MB 1.3 MB/s eta 0:00:06     |█████████████████████████▍      | 12.2 MB 223 kB/s eta 0:00:15\n",
      "\u001b[?25hCollecting matplotlib\n",
      "  Downloading matplotlib-3.4.2-cp39-cp39-manylinux1_x86_64.whl (10.3 MB)\n",
      "\u001b[K     |████████████████████████████████| 10.3 MB 1.7 MB/s eta 0:00:01\n",
      "\u001b[?25hCollecting pandas\n",
      "  Downloading pandas-1.2.4-cp39-cp39-manylinux1_x86_64.whl (9.7 MB)\n",
      "\u001b[K     |████████████████████████████████| 9.7 MB 444 kB/s eta 0:00:01\n",
      "\u001b[?25hRequirement already satisfied: pytz in /opt/conda/lib/python3.9/site-packages (from firecloud-dalmatian==0.0.17) (2021.1)\n",
      "Collecting firecloud>=0.16.9\n",
      "  Downloading firecloud-0.16.31.tar.gz (53 kB)\n",
      "\u001b[K     |████████████████████████████████| 53 kB 2.2 MB/s eta 0:00:01\n",
      "\u001b[?25hRequirement already satisfied: ipython in /opt/conda/lib/python3.9/site-packages (from firecloud-dalmatian==0.0.17) (7.23.1)\n",
      "Collecting iso8601\n",
      "  Downloading iso8601-0.1.14-py2.py3-none-any.whl (9.5 kB)\n",
      "Collecting google-cloud-storage>=1.13.2\n",
      "  Downloading google_cloud_storage-1.38.0-py2.py3-none-any.whl (103 kB)\n",
      "\u001b[K     |████████████████████████████████| 103 kB 2.3 MB/s eta 0:00:01\n",
      "\u001b[?25hCollecting agutil>=4.0.2\n",
      "  Downloading agutil-4.1.1-py3-none-any.whl (42 kB)\n",
      "\u001b[K     |████████████████████████████████| 42 kB 2.2 MB/s eta 0:00:01\n",
      "\u001b[?25hCollecting crayons>=0.2.0\n",
      "  Downloading crayons-0.4.0-py2.py3-none-any.whl (4.6 kB)\n",
      "Collecting hound>=0.2.0\n",
      "  Downloading hound-1.0.1-py3-none-any.whl (10 kB)\n",
      "Collecting rsa==4.6\n",
      "  Downloading rsa-4.6-py3-none-any.whl (47 kB)\n",
      "\u001b[K     |████████████████████████████████| 47 kB 3.2 MB/s eta 0:00:01\n",
      "\u001b[?25hCollecting pycryptodomex==3.9.8\n",
      "  Downloading pycryptodomex-3.9.8-cp39-cp39-manylinux1_x86_64.whl (13.7 MB)\n",
      "\u001b[K     |████████████████████████████████| 13.7 MB 1.6 MB/s eta 0:00:01\n",
      "\u001b[?25hCollecting pyasn1>=0.1.3\n",
      "  Downloading pyasn1-0.4.8-py2.py3-none-any.whl (77 kB)\n",
      "\u001b[K     |████████████████████████████████| 77 kB 3.0 MB/s eta 0:00:01\n",
      "\u001b[?25hCollecting colorama\n",
      "  Downloading colorama-0.4.4-py2.py3-none-any.whl (16 kB)\n",
      "Collecting google-auth>=1.6.3\n",
      "  Downloading google_auth-1.30.0-py2.py3-none-any.whl (146 kB)\n",
      "\u001b[K     |████████████████████████████████| 146 kB 575 kB/s eta 0:00:01\n",
      "\u001b[?25hCollecting pydot\n",
      "  Downloading pydot-1.4.2-py2.py3-none-any.whl (21 kB)\n",
      "Requirement already satisfied: requests[security] in /opt/conda/lib/python3.9/site-packages (from firecloud>=0.16.9->firecloud-dalmatian==0.0.17) (2.25.1)\n",
      "Requirement already satisfied: setuptools>=40.3.0 in /opt/conda/lib/python3.9/site-packages (from firecloud>=0.16.9->firecloud-dalmatian==0.0.17) (49.6.0.post20210108)\n",
      "Requirement already satisfied: six in /opt/conda/lib/python3.9/site-packages (from firecloud>=0.16.9->firecloud-dalmatian==0.0.17) (1.16.0)\n",
      "Collecting nose\n",
      "  Downloading nose-1.3.7-py3-none-any.whl (154 kB)\n",
      "\u001b[K     |████████████████████████████████| 154 kB 2.2 MB/s eta 0:00:01\n",
      "\u001b[?25hCollecting pylint==1.7.2\n",
      "  Downloading pylint-1.7.2-py2.py3-none-any.whl (644 kB)\n",
      "\u001b[K     |████████████████████████████████| 644 kB 2.8 MB/s eta 0:00:01\n",
      "\u001b[?25hCollecting astroid>=1.5.1\n",
      "  Downloading astroid-2.5.6-py3-none-any.whl (219 kB)\n",
      "\u001b[K     |████████████████████████████████| 219 kB 1.8 MB/s eta 0:00:01\n",
      "\u001b[?25hCollecting isort>=4.2.5\n",
      "  Downloading isort-5.8.0-py3-none-any.whl (103 kB)\n",
      "\u001b[K     |████████████████████████████████| 103 kB 2.6 MB/s eta 0:00:01\n",
      "\u001b[?25hCollecting mccabe\n",
      "  Downloading mccabe-0.6.1-py2.py3-none-any.whl (8.6 kB)\n",
      "Collecting wrapt<1.13,>=1.11\n",
      "  Downloading wrapt-1.12.1.tar.gz (27 kB)\n",
      "Collecting lazy-object-proxy>=1.4.0\n",
      "  Downloading lazy_object_proxy-1.6.0-cp39-cp39-manylinux1_x86_64.whl (57 kB)\n",
      "\u001b[K     |████████████████████████████████| 57 kB 1.1 MB/s eta 0:00:01\n",
      "\u001b[?25hCollecting pyasn1-modules>=0.2.1\n",
      "  Downloading pyasn1_modules-0.2.8-py2.py3-none-any.whl (155 kB)\n",
      "\u001b[K     |████████████████████████████████| 155 kB 453 kB/s eta 0:00:01\n",
      "\u001b[?25hCollecting cachetools<5.0,>=2.0.0\n",
      "  Downloading cachetools-4.2.2-py3-none-any.whl (11 kB)\n",
      "Collecting google-resumable-media<2.0dev,>=1.2.0\n",
      "  Downloading google_resumable_media-1.2.0-py2.py3-none-any.whl (75 kB)\n",
      "\u001b[K     |████████████████████████████████| 75 kB 2.2 MB/s eta 0:00:01\n",
      "\u001b[?25hCollecting google-cloud-core<2.0dev,>=1.4.1\n",
      "  Downloading google_cloud_core-1.6.0-py2.py3-none-any.whl (28 kB)\n",
      "Collecting google-api-core<2.0.0dev,>=1.21.0\n",
      "  Downloading google_api_core-1.26.3-py2.py3-none-any.whl (93 kB)\n",
      "\u001b[K     |████████████████████████████████| 93 kB 2.4 MB/s eta 0:00:01\n",
      "\u001b[?25hRequirement already satisfied: packaging>=14.3 in /opt/conda/lib/python3.9/site-packages (from google-api-core<2.0.0dev,>=1.21.0->google-cloud-core<2.0dev,>=1.4.1->google-cloud-storage>=1.13.2->firecloud-dalmatian==0.0.17) (20.9)\n",
      "Collecting googleapis-common-protos<2.0dev,>=1.6.0\n",
      "  Downloading googleapis_common_protos-1.53.0-py2.py3-none-any.whl (198 kB)\n",
      "\u001b[K     |████████████████████████████████| 198 kB 1.8 MB/s eta 0:00:01\n",
      "\u001b[?25hCollecting protobuf>=3.12.0\n",
      "  Downloading protobuf-3.17.0-cp39-cp39-manylinux_2_5_x86_64.manylinux1_x86_64.whl (1.0 MB)\n",
      "\u001b[K     |████████████████████████████████| 1.0 MB 2.2 MB/s eta 0:00:01\n",
      "\u001b[?25hCollecting google-crc32c<2.0dev,>=1.0\n",
      "  Downloading google_crc32c-1.1.2-cp39-cp39-manylinux2014_x86_64.whl (38 kB)\n",
      "Requirement already satisfied: cffi>=1.0.0 in /opt/conda/lib/python3.9/site-packages (from google-crc32c<2.0dev,>=1.0->google-resumable-media<2.0dev,>=1.2.0->google-cloud-storage>=1.13.2->firecloud-dalmatian==0.0.17) (1.14.5)\n",
      "Requirement already satisfied: pycparser in /opt/conda/lib/python3.9/site-packages (from cffi>=1.0.0->google-crc32c<2.0dev,>=1.0->google-resumable-media<2.0dev,>=1.2.0->google-cloud-storage>=1.13.2->firecloud-dalmatian==0.0.17) (2.20)\n",
      "Requirement already satisfied: pyparsing>=2.0.2 in /opt/conda/lib/python3.9/site-packages (from packaging>=14.3->google-api-core<2.0.0dev,>=1.21.0->google-cloud-core<2.0dev,>=1.4.1->google-cloud-storage>=1.13.2->firecloud-dalmatian==0.0.17) (2.4.7)\n",
      "Requirement already satisfied: certifi>=2017.4.17 in /opt/conda/lib/python3.9/site-packages (from requests[security]->firecloud>=0.16.9->firecloud-dalmatian==0.0.17) (2020.12.5)\n",
      "Requirement already satisfied: idna<3,>=2.5 in /opt/conda/lib/python3.9/site-packages (from requests[security]->firecloud>=0.16.9->firecloud-dalmatian==0.0.17) (2.10)\n",
      "Requirement already satisfied: urllib3<1.27,>=1.21.1 in /opt/conda/lib/python3.9/site-packages (from requests[security]->firecloud>=0.16.9->firecloud-dalmatian==0.0.17) (1.26.4)\n",
      "Requirement already satisfied: chardet<5,>=3.0.2 in /opt/conda/lib/python3.9/site-packages (from requests[security]->firecloud>=0.16.9->firecloud-dalmatian==0.0.17) (4.0.0)\n",
      "Requirement already satisfied: backcall in /opt/conda/lib/python3.9/site-packages (from ipython->firecloud-dalmatian==0.0.17) (0.2.0)\n",
      "Requirement already satisfied: jedi>=0.16 in /opt/conda/lib/python3.9/site-packages (from ipython->firecloud-dalmatian==0.0.17) (0.18.0)\n",
      "Requirement already satisfied: prompt-toolkit!=3.0.0,!=3.0.1,<3.1.0,>=2.0.0 in /opt/conda/lib/python3.9/site-packages (from ipython->firecloud-dalmatian==0.0.17) (3.0.18)\n",
      "Requirement already satisfied: decorator in /opt/conda/lib/python3.9/site-packages (from ipython->firecloud-dalmatian==0.0.17) (5.0.7)\n",
      "Requirement already satisfied: traitlets>=4.2 in /opt/conda/lib/python3.9/site-packages (from ipython->firecloud-dalmatian==0.0.17) (5.0.5)\n",
      "Requirement already satisfied: pexpect>4.3 in /opt/conda/lib/python3.9/site-packages (from ipython->firecloud-dalmatian==0.0.17) (4.8.0)\n",
      "Requirement already satisfied: pickleshare in /opt/conda/lib/python3.9/site-packages (from ipython->firecloud-dalmatian==0.0.17) (0.7.5)\n",
      "Requirement already satisfied: pygments in /opt/conda/lib/python3.9/site-packages (from ipython->firecloud-dalmatian==0.0.17) (2.9.0)\n",
      "Requirement already satisfied: matplotlib-inline in /opt/conda/lib/python3.9/site-packages (from ipython->firecloud-dalmatian==0.0.17) (0.1.2)\n",
      "Requirement already satisfied: parso<0.9.0,>=0.8.0 in /opt/conda/lib/python3.9/site-packages (from jedi>=0.16->ipython->firecloud-dalmatian==0.0.17) (0.8.2)\n",
      "Requirement already satisfied: ptyprocess>=0.5 in /opt/conda/lib/python3.9/site-packages (from pexpect>4.3->ipython->firecloud-dalmatian==0.0.17) (0.7.0)\n",
      "Requirement already satisfied: wcwidth in /opt/conda/lib/python3.9/site-packages (from prompt-toolkit!=3.0.0,!=3.0.1,<3.1.0,>=2.0.0->ipython->firecloud-dalmatian==0.0.17) (0.2.5)\n",
      "Requirement already satisfied: ipython-genutils in /opt/conda/lib/python3.9/site-packages (from traitlets>=4.2->ipython->firecloud-dalmatian==0.0.17) (0.2.0)\n",
      "Collecting pillow>=6.2.0\n",
      "  Downloading Pillow-8.2.0-cp39-cp39-manylinux1_x86_64.whl (3.0 MB)\n",
      "\u001b[K     |████████████████████████████████| 3.0 MB 1.3 MB/s eta 0:00:01\n",
      "\u001b[?25hCollecting kiwisolver>=1.0.1\n",
      "  Downloading kiwisolver-1.3.1-cp39-cp39-manylinux1_x86_64.whl (1.2 MB)\n",
      "\u001b[K     |████████████████████████████████| 1.2 MB 264 kB/s eta 0:00:01\n",
      "\u001b[?25hCollecting cycler>=0.10\n",
      "  Downloading cycler-0.10.0-py2.py3-none-any.whl (6.5 kB)\n",
      "Requirement already satisfied: python-dateutil>=2.7 in /opt/conda/lib/python3.9/site-packages (from matplotlib->firecloud-dalmatian==0.0.17) (2.8.1)\n",
      "Requirement already satisfied: cryptography>=1.3.4 in /opt/conda/lib/python3.9/site-packages (from requests[security]->firecloud>=0.16.9->firecloud-dalmatian==0.0.17) (3.4.7)\n",
      "Requirement already satisfied: pyOpenSSL>=0.14 in /opt/conda/lib/python3.9/site-packages (from requests[security]->firecloud>=0.16.9->firecloud-dalmatian==0.0.17) (20.0.1)\n",
      "Building wheels for collected packages: firecloud-dalmatian, firecloud, wrapt\n",
      "  Building wheel for firecloud-dalmatian (setup.py) ... \u001b[?25ldone\n",
      "\u001b[?25h  Created wheel for firecloud-dalmatian: filename=firecloud_dalmatian-0.0.17-py3-none-any.whl size=37935 sha256=d82d11833282a36317bd067ece6eb260743f614e5a92ec1d8248cdba7bebcfcf\n",
      "  Stored in directory: /tmp/pip-ephem-wheel-cache-lw3u2re8/wheels/77/38/16/f5be0d6d2f64552d01bda27adc44b1f3afe3b303aa1e1e16b8\n",
      "  Building wheel for firecloud (setup.py) ... \u001b[?25ldone\n",
      "\u001b[?25h  Created wheel for firecloud: filename=firecloud-0.16.31-py3-none-any.whl size=53437 sha256=f61909e8543d70373db92e6baef0795720102c1a82f16830bf2f4a955ef62a35\n",
      "  Stored in directory: /tmp/pip-ephem-wheel-cache-lw3u2re8/wheels/a3/78/e0/116e675ab045b9d9c50a4d24b095aca18cba65f582bfb9e4bb\n",
      "  Building wheel for wrapt (setup.py) ... \u001b[?25ldone\n",
      "\u001b[?25h  Created wheel for wrapt: filename=wrapt-1.12.1-py3-none-any.whl size=19553 sha256=1425b77f43bbfe600382534b9540e3b8c6c213c840561d38a85bb952ede7438f\n",
      "  Stored in directory: /tmp/pip-ephem-wheel-cache-lw3u2re8/wheels/98/23/68/efe259aaca055e93b08e74fbe512819c69a2155c11ba3c0f10\n",
      "Successfully built firecloud-dalmatian firecloud wrapt\n",
      "Installing collected packages: pyasn1, rsa, pyasn1-modules, protobuf, cachetools, googleapis-common-protos, google-auth, wrapt, lazy-object-proxy, google-crc32c, google-api-core, mccabe, isort, google-resumable-media, google-cloud-core, astroid, pylint, pydot, pycryptodomex, pillow, numpy, nose, kiwisolver, google-cloud-storage, cycler, colorama, pandas, matplotlib, iso8601, hound, firecloud, crayons, agutil, firecloud-dalmatian\n",
      "Successfully installed agutil-4.1.1 astroid-2.5.6 cachetools-4.2.2 colorama-0.4.4 crayons-0.4.0 cycler-0.10.0 firecloud-0.16.31 firecloud-dalmatian-0.0.17 google-api-core-1.26.3 google-auth-1.30.0 google-cloud-core-1.6.0 google-cloud-storage-1.38.0 google-crc32c-1.1.2 google-resumable-media-1.2.0 googleapis-common-protos-1.53.0 hound-1.0.1 iso8601-0.1.14 isort-5.8.0 kiwisolver-1.3.1 lazy-object-proxy-1.6.0 matplotlib-3.4.2 mccabe-0.6.1 nose-1.3.7 numpy-1.20.3 pandas-1.2.4 pillow-8.2.0 protobuf-3.17.0 pyasn1-0.4.8 pyasn1-modules-0.2.8 pycryptodomex-3.9.8 pydot-1.4.2 pylint-1.7.2 rsa-4.6 wrapt-1.12.1\n",
      "\u001b[33mWARNING: Running pip as root will break packages and permissions. You should install packages reliably by using venv: https://pip.pypa.io/warnings/venv\u001b[0m\n",
      "Note: you may need to restart the kernel to use updated packages.\n"
     ]
    }
   ],
   "source": [
    "%pip install --upgrade --no-cache-dir git+https://github.com/getzlab/dalmatian"
   ]
  },
  {
   "cell_type": "code",
   "execution_count": 3,
   "id": "07771495-6ad7-4ea6-aaec-80513b302799",
   "metadata": {},
   "outputs": [],
   "source": [
    "import dalmatian"
   ]
  },
  {
   "cell_type": "code",
   "execution_count": 5,
   "id": "13c2add3-0a7d-40dd-bde7-128ce7f54488",
   "metadata": {},
   "outputs": [],
   "source": [
    "wm = dalmatian.WorkspaceManager(\"firstterrabillingaccount/singlem-pilot\")\n"
   ]
  },
  {
   "cell_type": "code",
   "execution_count": 9,
   "id": "c2580102-40c7-479a-91ff-31ae208172e3",
   "metadata": {},
   "outputs": [
    {
     "name": "stdout",
     "output_type": "stream",
     "text": [
      "Successfully created submission 899b8220-f455-4b14-89f4-385d5f499815.\n"
     ]
    },
    {
     "name": "stderr",
     "output_type": "stream",
     "text": [
      "/opt/conda/lib/python3.9/site-packages/google/auth/_default.py:70: UserWarning: Your application has authenticated using end user credentials from Google Cloud SDK without a quota project. You might receive a \"quota exceeded\" or \"API not enabled\" error. We recommend you rerun `gcloud auth application-default login` and make sure a quota project is added. Or you can use service accounts instead. For more information about service accounts, see https://cloud.google.com/docs/authentication/\n",
      "  warnings.warn(_CLOUD_SDK_CREDENTIALS_WARNING)\n",
      "/opt/conda/lib/python3.9/site-packages/google/auth/_default.py:70: UserWarning: Your application has authenticated using end user credentials from Google Cloud SDK without a quota project. You might receive a \"quota exceeded\" or \"API not enabled\" error. We recommend you rerun `gcloud auth application-default login` and make sure a quota project is added. Or you can use service accounts instead. For more information about service accounts, see https://cloud.google.com/docs/authentication/\n",
      "  warnings.warn(_CLOUD_SDK_CREDENTIALS_WARNING)\n"
     ]
    },
    {
     "data": {
      "text/plain": [
       "'899b8220-f455-4b14-89f4-385d5f499815'"
      ]
     },
     "execution_count": 9,
     "metadata": {},
     "output_type": "execute_result"
    }
   ],
   "source": [
    "wm.create_submission(\"config_namespace_test/test-workflow\", \"1\", 'dl_test')\n",
    "\n"
   ]
  }
 ],
 "metadata": {
  "kernelspec": {
   "display_name": "Python 3",
   "language": "python",
   "name": "python3"
  },
  "language_info": {
   "codemirror_mode": {
    "name": "ipython",
    "version": 3
   },
   "file_extension": ".py",
   "mimetype": "text/x-python",
   "name": "python",
   "nbconvert_exporter": "python",
   "pygments_lexer": "ipython3",
   "version": "3.9.2"
  }
 },
 "nbformat": 4,
 "nbformat_minor": 5
}
