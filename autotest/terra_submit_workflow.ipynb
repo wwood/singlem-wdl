{
 "cells": [
  {
   "cell_type": "code",
   "execution_count": 1,
   "id": "a02fb55a-c897-45af-ac58-48e4d4555693",
   "metadata": {},
   "outputs": [],
   "source": [
    "import os\n",
    "os.environ[\"GCLOUD_PROJECT\"] = \"maximal-dynamo-308105\""
   ]
  },
  {
   "cell_type": "code",
   "execution_count": 2,
   "id": "07771495-6ad7-4ea6-aaec-80513b302799",
   "metadata": {},
   "outputs": [],
   "source": [
    "import dalmatian"
   ]
  },
  {
   "cell_type": "code",
   "execution_count": 3,
   "id": "13c2add3-0a7d-40dd-bde7-128ce7f54488",
   "metadata": {},
   "outputs": [],
   "source": [
    "wm = dalmatian.WorkspaceManager(\"firstterrabillingaccount/singlem-pilot\")\n"
   ]
  },
  {
   "cell_type": "code",
   "execution_count": 16,
   "id": "66ba6268-601a-48ec-9149-3e6af1db41af",
   "metadata": {},
   "outputs": [],
   "source": [
    "json_body={\n",
    "  \"deleted\": False,\n",
    "  \"inputs\": {\n",
    "    \"SingleM_SRA.GCloud_User_Key_File\": \"\\\"gs://fc-e68b90c4-861d-4507-8118-e88d1e871567/sa-private-key.json\\\"\",\n",
    "    \"SingleM_SRA.AWS_User_Key\": \"\",\n",
    "    \"SingleM_SRA.singlem.memory\": \"\",\n",
    "    \"SingleM_SRA.singlem.dockerImage\": \"\",\n",
    "    \"SingleM_SRA.SRA_accession_num\": \"this.sra_accession\",\n",
    "    \"SingleM_SRA.GCloud_Paid\": \"true\",\n",
    "    \"SingleM_SRA.metagenome_size_in_gbp\": \"this.metagenome_size_in_gbp\",\n",
    "    \"SingleM_SRA.Download_Method_Order\": \"\\\"gcp-cp aws-http prefetch\\\"\",\n",
    "    \"SingleM_SRA.AWS_User_Key_Id\": \"\"\n",
    "  },\n",
    "  \"methodConfigVersion\": 22,\n",
    "  \"methodRepoMethod\": {\n",
    "    \"methodName\": \"singlem-single-task\",\n",
    "    \"methodVersion\": 11,\n",
    "    \"methodNamespace\": \"singlem\",\n",
    "    \"methodUri\": \"agora://singlem/singlem-single-task/11\",\n",
    "    \"sourceRepo\": \"agora\"\n",
    "  },\n",
    "  \"name\": \"singlem-single-task\",\n",
    "  \"namespace\": \"singlem\",\n",
    "  \"outputs\": {\n",
    "    \"SingleM_SRA.SingleM_tables\": \"this.singlem_table\"\n",
    "  },\n",
    "  \"prerequisites\": {},\n",
    "  \"rootEntityType\": \"autotest_sample\"\n",
    "}"
   ]
  },
  {
   "cell_type": "code",
   "execution_count": 17,
   "id": "95c45a9c-cde9-4f97-be8a-dee0ddc583e8",
   "metadata": {},
   "outputs": [
    {
     "name": "stdout",
     "output_type": "stream",
     "text": [
      "Successfully updated configuration singlem/singlem-single-task\n"
     ]
    }
   ],
   "source": [
    "wm.update_config(json_body)\n",
    "\n"
   ]
  },
  {
   "cell_type": "code",
   "execution_count": 12,
   "id": "c2580102-40c7-479a-91ff-31ae208172e3",
   "metadata": {},
   "outputs": [
    {
     "name": "stdout",
     "output_type": "stream",
     "text": [
      "Successfully created submission 6d9bf77a-b91a-4921-98cb-dfc0f98f5e1f.\n"
     ]
    },
    {
     "data": {
      "text/plain": [
       "'6d9bf77a-b91a-4921-98cb-dfc0f98f5e1f'"
      ]
     },
     "execution_count": 12,
     "metadata": {},
     "output_type": "execute_result"
    }
   ],
   "source": [
    "wm.create_submission(\"singlem/singlem-single-task\",\"small\",\"autotest_sample_set\", expression='this.autotest_samples', use_callcache=False)\n",
    "\n"
   ]
  },
  {
   "cell_type": "code",
   "execution_count": null,
   "id": "e55e6027-666e-41ef-897c-7cf9979adbd4",
   "metadata": {},
   "outputs": [],
   "source": [
    "wm.create_submission(\"singlem/singlem-single-task\",\"medium\",\"autotest_sample_set\", expression='this.autotest_samples', use_callcache=False)\n"
   ]
  },
  {
   "cell_type": "code",
   "execution_count": null,
   "id": "bc67a441-904b-432e-8373-4b2f772457ad",
   "metadata": {},
   "outputs": [],
   "source": [
    "wm.create_submission(\"singlem/singlem-single-task\",\"large\",\"autotest_sample_set\", expression='this.autotest_samples', use_callcache=False)\n"
   ]
  }
 ],
 "metadata": {
  "kernelspec": {
   "display_name": "Python 3",
   "language": "python",
   "name": "python3"
  },
  "language_info": {
   "codemirror_mode": {
    "name": "ipython",
    "version": 3
   },
   "file_extension": ".py",
   "mimetype": "text/x-python",
   "name": "python",
   "nbconvert_exporter": "python",
   "pygments_lexer": "ipython3",
   "version": "3.9.2"
  }
 },
 "nbformat": 4,
 "nbformat_minor": 5
}
