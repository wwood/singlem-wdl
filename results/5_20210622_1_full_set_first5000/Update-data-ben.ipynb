{
 "cells": [
  {
   "cell_type": "markdown",
   "metadata": {},
   "source": [
    "# Upload data"
   ]
  },
  {
   "cell_type": "markdown",
   "metadata": {},
   "source": [
    "The following tasks have already been completed. To replicate this analysis with a different service account or project you may need to perform some / all of these tasks. \n",
    "\n",
    "- create service account\n",
    " - https://cloud.google.com/iam/docs/creating-managing-service-accounts#creating_a_service_account\n",
    "- create credentials file\n",
    " - https://cloud.google.com/storage/docs/authentication#generating-a-private-key\n",
    "- run script to register service account with Terra..\n",
    " - https://github.com/broadinstitute/terra-tools/tree/master/scripts/register_service_account\n",
    " - amend relative path to credentials file to absolute path in docker run command provided above. ie..\n",
    " - -v /home/mitchac/credentials.json:/svc.json \n",
    "- Grant your service account 'writer' permissions on your workspace.\n",
    "- Upload the credentials.json file for your service account to files area in this workspace.\n",
    "- Grant your service account 'reader' permissions on the relevant methods in the Broad Methods Repository."
   ]
  },
  {
   "cell_type": "markdown",
   "metadata": {},
   "source": [
    "## Copy singlem-wdl git repo"
   ]
  },
  {
   "cell_type": "code",
   "execution_count": 22,
   "metadata": {},
   "outputs": [
    {
     "name": "stdout",
     "output_type": "stream",
     "text": [
      "remote: Enumerating objects: 25, done.\u001b[K\n",
      "remote: Counting objects: 100% (24/24), done.\u001b[K\n",
      "remote: Compressing objects: 100% (13/13), done.\u001b[K\n",
      "remote: Total 19 (delta 8), reused 15 (delta 4), pack-reused 0\u001b[K\n",
      "Unpacking objects: 100% (19/19), done.\n",
      "From https://github.com/wwood/singlem-wdl\n",
      "   894a30b..0ba9b72  main       -> origin/main\n",
      "Updating 894a30b..0ba9b72\n",
      "Fast-forward\n",
      " autotest/terra-configs/test/SubmissionRequest.json |    11 \u001b[32m+\u001b[m\n",
      " ..._data_table => sra_20210614_2.terra_data_table} |     2 \u001b[32m+\u001b[m\u001b[31m-\u001b[m\n",
      " ...table => sra_20210614_2_sets1.terra_data_table} | 19350 \u001b[32m+++++++++\u001b[m\u001b[31m----------\u001b[m\n",
      " 3 files changed, 9687 insertions(+), 9676 deletions(-)\n",
      " create mode 100644 autotest/terra-configs/test/SubmissionRequest.json\n",
      " rename runlists/{sra_20210421_2.terra_data_table => sra_20210614_2.terra_data_table} (99%)\n",
      " rename runlists/{sra_20210421_2_sets1.terra_data_table => sra_20210614_2_sets1.terra_data_table} (95%)\n"
     ]
    }
   ],
   "source": [
    "#!git clone https://github.com/wwood/singlem-wdl.git ~/git/singlem-wdl\n",
    "!cd ~/git/singlem-wdl && git pull --ff-only"
   ]
  },
  {
   "cell_type": "code",
   "execution_count": 23,
   "metadata": {},
   "outputs": [],
   "source": [
    "# Ensure that the \n",
    "import subprocess\n",
    "current_commit = subprocess.check_output(['bash','-c',\"cd ~/git/singlem-wdl && git log --oneline |awk '{print $1}' |head -1\"])\n",
    "if current_commit != b'0ba9b72\\n':\n",
    "    raise Exception(\"Unexpected git commit found: {}\".format(current_commit))"
   ]
  },
  {
   "cell_type": "markdown",
   "metadata": {},
   "source": [
    "## Copy the credentials.json file to the disk of your notebook instance.. "
   ]
  },
  {
   "cell_type": "code",
   "execution_count": 12,
   "metadata": {},
   "outputs": [
    {
     "name": "stdout",
     "output_type": "stream",
     "text": [
      "Copying gs://fc-833c2d81-556a-4c83-aed7-21f884f6fec0/notebooks/credentials.json...\n",
      "/ [1 files][  2.3 KiB/  2.3 KiB]                                                \n",
      "Operation completed over 1 objects/2.3 KiB.                                      \n",
      "Cost-estimator-gbp-summary.ipynb  test.ipynb\n",
      "credentials.json\t\t  Test-singlem-disk-size.ipynb\n",
      "Run-singlem-workflow.ipynb\t  Update-data-ben.ipynb\n",
      "Run_workflow_on_data_set.ipynb\t  Upload-data.ipynb\n"
     ]
    }
   ],
   "source": [
    "!gsutil cp gs://fc-833c2d81-556a-4c83-aed7-21f884f6fec0/notebooks/credentials.json .\n",
    "!ls"
   ]
  },
  {
   "cell_type": "markdown",
   "metadata": {},
   "source": [
    "## Authenticate your service account.."
   ]
  },
  {
   "cell_type": "code",
   "execution_count": 13,
   "metadata": {},
   "outputs": [
    {
     "name": "stdout",
     "output_type": "stream",
     "text": [
      "Activated service account credentials for: [terra-api@maximal-dynamo-308105.iam.gserviceaccount.com]\n",
      "                              Credentialed Accounts\n",
      "ACTIVE  ACCOUNT\n",
      "        pet-101246808612078416795@firstterrabillingaccount.iam.gserviceaccount.com\n",
      "*       terra-api@maximal-dynamo-308105.iam.gserviceaccount.com\n",
      "\n",
      "To set the active account, run:\n",
      "    $ gcloud config set account `ACCOUNT`\n",
      "\n"
     ]
    }
   ],
   "source": [
    "!gcloud auth activate-service-account --key-file credentials.json\n",
    "!gcloud auth list"
   ]
  },
  {
   "cell_type": "markdown",
   "metadata": {},
   "source": [
    "## Install and import"
   ]
  },
  {
   "cell_type": "code",
   "execution_count": 14,
   "metadata": {
    "collapsed": true
   },
   "outputs": [
    {
     "name": "stdout",
     "output_type": "stream",
     "text": [
      "Collecting requests_toolbelt\n",
      "  Downloading requests_toolbelt-0.9.1-py2.py3-none-any.whl (54 kB)\n",
      "\u001b[K     |████████████████████████████████| 54 kB 2.4 MB/s eta 0:00:011\n",
      "\u001b[?25hCollecting requests<3.0.0,>=2.0.1\n",
      "  Downloading requests-2.25.1-py2.py3-none-any.whl (61 kB)\n",
      "\u001b[K     |████████████████████████████████| 61 kB 5.0 MB/s eta 0:00:011\n",
      "\u001b[?25hCollecting idna<3,>=2.5\n",
      "  Downloading idna-2.10-py2.py3-none-any.whl (58 kB)\n",
      "\u001b[K     |████████████████████████████████| 58 kB 5.0 MB/s  eta 0:00:01\n",
      "\u001b[?25hCollecting certifi>=2017.4.17\n",
      "  Downloading certifi-2021.5.30-py2.py3-none-any.whl (145 kB)\n",
      "\u001b[K     |████████████████████████████████| 145 kB 8.7 MB/s eta 0:00:01     |█████████                       | 40 kB 14.8 MB/s eta 0:00:01\n",
      "\u001b[?25hCollecting chardet<5,>=3.0.2\n",
      "  Downloading chardet-4.0.0-py2.py3-none-any.whl (178 kB)\n",
      "\u001b[K     |████████████████████████████████| 178 kB 8.5 MB/s eta 0:00:01\n",
      "\u001b[?25hCollecting urllib3<1.27,>=1.21.1\n",
      "  Downloading urllib3-1.26.5-py2.py3-none-any.whl (138 kB)\n",
      "\u001b[K     |████████████████████████████████| 138 kB 9.3 MB/s eta 0:00:01\n",
      "\u001b[?25hInstalling collected packages: urllib3, idna, chardet, certifi, requests, requests-toolbelt\n",
      "Successfully installed certifi-2021.5.30 chardet-4.0.0 idna-2.10 requests-2.25.1 requests-toolbelt-0.9.1 urllib3-1.26.5\n"
     ]
    }
   ],
   "source": [
    "!pip install requests_toolbelt"
   ]
  },
  {
   "cell_type": "code",
   "execution_count": 15,
   "metadata": {},
   "outputs": [],
   "source": [
    "import requests\n",
    "import os\n",
    "import json\n",
    "from requests_toolbelt.multipart.encoder import MultipartEncoder"
   ]
  },
  {
   "cell_type": "markdown",
   "metadata": {},
   "source": [
    "## Actually do the upload\n",
    "The only thing you will need to edit in the following code is the filename for your tsv file. NB this command isn't idempotent. ie if you already have entities in your workspace, of the type you are attempting to import, the following command will return a 400 error message. If it works it should return a 200 code. "
   ]
  },
  {
   "cell_type": "code",
   "execution_count": 18,
   "metadata": {},
   "outputs": [],
   "source": [
    "import os\n",
    "home_dir = os.path.expanduser('~')"
   ]
  },
  {
   "cell_type": "code",
   "execution_count": 26,
   "metadata": {},
   "outputs": [],
   "source": [
    "def upload_tsv(file_path):\n",
    "    token = os.popen('gcloud auth --account=terra-api@maximal-dynamo-308105.iam.gserviceaccount.com print-access-token').read().rstrip()\n",
    "\n",
    "    url = 'https://api.firecloud.org/api/workspaces/firstterrabillingaccount/singlem-pilot-2/flexibleImportEntities'\n",
    "\n",
    "    m = MultipartEncoder(\n",
    "        fields={\"workspaceNamespace\": \"firstterrabillingaccount\",\"workspaceName\": \"singlem-pilot-2\",\n",
    "                'entities': ('filename', open(file_path, 'rb'), 'text/plain')}\n",
    "        )\n",
    "\n",
    "    head = {'accept': '*/*','Content-Type': m.content_type, 'Authorization': 'Bearer {}'.format(token)}\n",
    "\n",
    "    r = requests.post(url, data=m, headers=head)\n",
    "    print(r)"
   ]
  },
  {
   "cell_type": "code",
   "execution_count": 27,
   "metadata": {
    "scrolled": true
   },
   "outputs": [
    {
     "name": "stdout",
     "output_type": "stream",
     "text": [
      "<Response [502]>\n"
     ]
    }
   ],
   "source": [
    "upload_tsv(home_dir+'/git/singlem-wdl/runlists/sra_20210614_2.terra_data_table')"
   ]
  },
  {
   "cell_type": "code",
   "execution_count": 29,
   "metadata": {},
   "outputs": [
    {
     "name": "stdout",
     "output_type": "stream",
     "text": [
      "Tue Jun 22 04:51:26 UTC 2021\n",
      "<Response [502]>\n"
     ]
    }
   ],
   "source": [
    "!date\n",
    "upload_tsv(home_dir+'/git/singlem-wdl/runlists/sra_20210614_2_sets1.terra_data_table')"
   ]
  },
  {
   "cell_type": "code",
   "execution_count": 31,
   "metadata": {},
   "outputs": [],
   "source": [
    "#Despite the 502 responses above, it appeared to work, after waiting some minutes. \n",
    "# In future, test for this through the API maybe"
   ]
  },
  {
   "cell_type": "markdown",
   "metadata": {},
   "source": [
    "The following is a useful function for previewing the message which will be sent to the api. This is not required to upload a data file. "
   ]
  },
  {
   "cell_type": "code",
   "execution_count": 21,
   "metadata": {},
   "outputs": [],
   "source": [
    "# def pretty_print_POST(req):\n",
    "#     \"\"\"\n",
    "#     At this point it is completely built and ready\n",
    "#     to be fired; it is \"prepared\".\n",
    "\n",
    "#     However pay attention at the formatting used in \n",
    "#     this function because it is programmed to be pretty \n",
    "#     printed and may differ from the actual request.\n",
    "#     \"\"\"\n",
    "#     print('{}\\n{}\\r\\n{}\\r\\n\\r\\n{}'.format(\n",
    "#         '-----------START-----------',\n",
    "#         req.method + ' ' + req.url,\n",
    "#         '\\r\\n'.join('{}: {}'.format(k, v) for k, v in req.headers.items()),\n",
    "#         req.body,\n",
    "#     ))\n",
    "\n",
    "# req = requests.Request('POST', url, data=data, headers=head)\n",
    "# prepared = req.prepare()\n",
    "# pretty_print_POST(req)"
   ]
  },
  {
   "cell_type": "code",
   "execution_count": null,
   "metadata": {},
   "outputs": [],
   "source": []
  }
 ],
 "metadata": {
  "kernelspec": {
   "display_name": "Python 3",
   "language": "python",
   "name": "python3"
  },
  "language_info": {
   "codemirror_mode": {
    "name": "ipython",
    "version": 3
   },
   "file_extension": ".py",
   "mimetype": "text/x-python",
   "name": "python",
   "nbconvert_exporter": "python",
   "pygments_lexer": "ipython3",
   "version": "3.7.10"
  },
  "toc": {
   "base_numbering": 1,
   "nav_menu": {},
   "number_sections": true,
   "sideBar": true,
   "skip_h1_title": false,
   "title_cell": "Table of Contents",
   "title_sidebar": "Contents",
   "toc_cell": false,
   "toc_position": {},
   "toc_section_display": true,
   "toc_window_display": false
  }
 },
 "nbformat": 4,
 "nbformat_minor": 2
}
